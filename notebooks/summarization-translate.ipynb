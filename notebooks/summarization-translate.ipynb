{
 "cells": [
  {
   "cell_type": "markdown",
   "metadata": {},
   "source": [
    "# Summarization in Portuguese\n",
    "\n",
    "Although there already exist various fine-tuned models for summarization on the Hugging Face Hub, almost all of these are only suitable for English documents. "
   ]
  },
  {
   "cell_type": "code",
   "execution_count": 2,
   "metadata": {},
   "outputs": [
    {
     "name": "stderr",
     "output_type": "stream",
     "text": [
      "You are using the default legacy behaviour of the <class 'transformers.models.t5.tokenization_t5.T5Tokenizer'>. This is expected, and simply means that the `legacy` (previous) behavior will be used so nothing changes for you. If you want to use the new behaviour, set `legacy=False`. This should only be set if you understand what it means, and thoroughly read the reason why this was added as explained in https://github.com/huggingface/transformers/pull/24565\n",
      "Special tokens have been added in the vocabulary, make sure the associated word embeddings are fine-tuned or trained.\n"
     ]
    },
    {
     "name": "stdout",
     "output_type": "stream",
     "text": [
      "Texto em inglês: Hello, how are you?\n"
     ]
    }
   ],
   "source": [
    "from transformers import T5ForConditionalGeneration, T5Tokenizer\n",
    "\n",
    "# Carregar o tokenizer e o modelo pré-treinado\n",
    "model_name = 'unicamp-dl/translation-pt-en-t5'\n",
    "tokenizer = T5Tokenizer.from_pretrained(model_name)\n",
    "model = T5ForConditionalGeneration.from_pretrained(model_name)\n",
    "\n",
    "def translate_pt_to_en(text):\n",
    "    # Preprocessar o texto para o formato esperado pelo modelo\n",
    "    input_text = f\"translate Portuguese to English: {text}\"\n",
    "    inputs = tokenizer.encode(input_text, return_tensors='pt', max_length=512, truncation=True)\n",
    "    \n",
    "    # Gerar a tradução\n",
    "    translated = model.generate(inputs, max_length=512, num_beams=4, early_stopping=True)\n",
    "    \n",
    "    # Decodificar a tradução gerada\n",
    "    translated_text = tokenizer.decode(translated[0], skip_special_tokens=True)\n",
    "    return translated_text\n",
    "\n",
    "# Texto em português para ser traduzido\n",
    "texto_pt = \"Olá, como você está?\"\n",
    "# Traduzir o texto para inglês\n",
    "texto_en = translate_pt_to_en(texto_pt)\n",
    "print(f\"Texto em inglês: {texto_en}\")\n"
   ]
  },
  {
   "cell_type": "code",
   "execution_count": 3,
   "metadata": {},
   "outputs": [],
   "source": [
    "ARTICLE = \"\"\"\n",
    "Olá, equipe querida!\n",
    "\n",
    "Espero que todos estejam desfrutando de uma excelente semana e que estejam animados para as atividades que temos pela frente. Gostaria de compartilhar alguns pontos importantes para garantir que estamos todos alinhados e preparados para as demandas do nosso setor de ciência de dados.\n",
    "\n",
    "Primeiramente, gostaria de lembrar que na quarta-feira, às 10h, teremos nossa reunião de planejamento semanal. É de extrema importância que todos estejam presentes e tragam as atualizações mais recentes dos projetos em que estão envolvidos. Esse é um momento crucial para discutirmos o andamento das atividades, resolvermos possíveis impasses e garantirmos que todos estamos caminhando na mesma direção.\n",
    "\n",
    "Além disso, estamos nos aproximando do prazo para a entrega do relatório mensal. É fundamental que todas as informações estejam devidamente atualizadas, os gráficos e análises sejam minuciosamente revisados, e que tenhamos uma versão final pronta até sexta-feira. Lembrem-se de verificar cada detalhe para assegurar que nosso trabalho reflete a excelência que sempre buscamos.\n",
    "\n",
    "Por fim, mas não menos importante, gostaria de lembrá-los da necessidade de registrar as horas trabalhadas no sistema até o final do dia de hoje. Esse registro é essencial para mantermos um controle preciso do tempo dedicado às nossas atividades e para garantir que estamos cumprindo com nossos compromissos de maneira organizada.\n",
    "\n",
    "Conto com a dedicação e empenho de todos vocês para que possamos continuar entregando resultados de alta qualidade. Estou à disposição para quaisquer dúvidas ou necessidades que possam surgir. Vamos juntos fazer desta uma semana produtiva e cheia de realizações.\n",
    "\n",
    "Abraços calorosos,\n",
    "\"\"\""
   ]
  },
  {
   "cell_type": "code",
   "execution_count": 4,
   "metadata": {},
   "outputs": [
    {
     "name": "stdout",
     "output_type": "stream",
     "text": [
      "Texto em inglês: We would like to share some important points to ensure that we are all aligned and prepared for the demands of our data science sector. First, I would like to remember that on Wednesday, at 10 a.m., we will have our weekly planning meeting. It is extremely important that everyone is present and bring the latest updates of the projects in which they are involved. This is a crucial moment to discuss the progress of the activities, solve possible deadlocks and ensure that we are all working in the same direction. It is essential that all the information is properly updated, the graphs and analyses are carefully reviewed, and that we are keeping ready for any doubts or needs that might arise. We should remember together with the dedication and effort of all of you so that we can continue to deliver high-quality results. We would like to remind you of the need to register our working hours in the system until the end of the day of the present day. It is essential that we are keeping the deadline for delivering our commitments in a productive week and full of any doubts or needs that might arise. We should remember together with the dedication and effort of all of you to ensure that we are complying with our commitments in an organized manner.\n"
     ]
    }
   ],
   "source": [
    "texto_em_ingles = translate_pt_to_en(ARTICLE)\n",
    "print(f\"Texto em inglês: {texto_em_ingles}\")"
   ]
  },
  {
   "cell_type": "code",
   "execution_count": 7,
   "metadata": {},
   "outputs": [],
   "source": [
    "from transformers import pipeline\n",
    "\n",
    "summarizer = pipeline(\"summarization\", model=\"facebook/bart-large-cnn\")"
   ]
  },
  {
   "cell_type": "code",
   "execution_count": 10,
   "metadata": {},
   "outputs": [
    {
     "name": "stderr",
     "output_type": "stream",
     "text": [
      "Your max_length is set to 356, but your input_length is only 246. Since this is a summarization task, where outputs shorter than the input are typically wanted, you might consider decreasing max_length manually, e.g. summarizer('...', max_length=123)\n"
     ]
    },
    {
     "name": "stdout",
     "output_type": "stream",
     "text": [
      "[{'summary_text': '\"We would like to share some important points to ensure that we are all aligned and prepared for the demands of our data science sector\" \"On Wednesday, at 10 a.m., we will have our weekly planning meeting. It is extremely important that everyone is present and bring the latest updates of the projects\"'}]\n"
     ]
    }
   ],
   "source": [
    "pipeline_output = summarizer(texto_em_ingles, max_length=356, min_length=30, do_sample=False)\n",
    "print(pipeline_output )"
   ]
  },
  {
   "cell_type": "code",
   "execution_count": 14,
   "metadata": {},
   "outputs": [
    {
     "name": "stderr",
     "output_type": "stream",
     "text": [
      "/home/bruna/.pyenv/versions/3.10.6/envs/voice_to_action/lib/python3.10/site-packages/transformers/models/marian/tokenization_marian.py:175: UserWarning: Recommended: pip install sacremoses.\n",
      "  warnings.warn(\"Recommended: pip install sacremoses.\")\n"
     ]
    },
    {
     "name": "stdout",
     "output_type": "stream",
     "text": [
      "Texto em português: Olá, como estás?\n"
     ]
    }
   ],
   "source": [
    "from transformers import MarianMTModel, MarianTokenizer\n",
    "\n",
    "# Carregar o tokenizer e o modelo pré-treinado\n",
    "model_name = 'Helsinki-NLP/opus-mt-tc-big-en-pt'\n",
    "tokenizer = MarianTokenizer.from_pretrained(model_name)\n",
    "model = MarianMTModel.from_pretrained(model_name)\n",
    "\n",
    "def translate_en_to_pt(text):\n",
    "    # Tokenizar o texto de entrada\n",
    "    inputs = tokenizer(text, return_tensors='pt', padding=True, truncation=True)\n",
    "    # Gerar a tradução\n",
    "    translated = model.generate(**inputs)\n",
    "    # Decodificar a tradução gerada\n",
    "    translated_text = tokenizer.batch_decode(translated, skip_special_tokens=True)[0]\n",
    "    return translated_text\n",
    "\n",
    "# Texto em inglês para ser traduzido\n",
    "texto_en = \"Hello, how are you?\"\n",
    "# Traduzir o texto para português\n",
    "texto_pt = translate_en_to_pt(texto_en)\n",
    "print(f\"Texto em português: {texto_pt}\")\n",
    "\n"
   ]
  },
  {
   "cell_type": "code",
   "execution_count": 20,
   "metadata": {},
   "outputs": [
    {
     "data": {
      "text/plain": [
       "str"
      ]
     },
     "execution_count": 20,
     "metadata": {},
     "output_type": "execute_result"
    }
   ],
   "source": [
    "type(pipeline_output[0]['summary_text'])"
   ]
  },
  {
   "cell_type": "code",
   "execution_count": 21,
   "metadata": {},
   "outputs": [
    {
     "data": {
      "text/plain": [
       "'\"Gostaríamos de compartilhar alguns pontos importantes para garantir que estamos todos alinhados e preparados para as demandas do nosso setor de ciência de dados\" \"Na quarta-feira, às 10h, teremos nossa reunião semanal de planejamento. É extremamente importante que todos estejam presentes e tragam as últimas atualizações dos projetos\"'"
      ]
     },
     "execution_count": 21,
     "metadata": {},
     "output_type": "execute_result"
    }
   ],
   "source": [
    "translate_en_to_pt(pipeline_output[0]['summary_text'])"
   ]
  }
 ],
 "metadata": {
  "kernelspec": {
   "display_name": "voice_to_action",
   "language": "python",
   "name": "python3"
  },
  "language_info": {
   "codemirror_mode": {
    "name": "ipython",
    "version": 3
   },
   "file_extension": ".py",
   "mimetype": "text/x-python",
   "name": "python",
   "nbconvert_exporter": "python",
   "pygments_lexer": "ipython3",
   "version": "3.10.6"
  }
 },
 "nbformat": 4,
 "nbformat_minor": 2
}
